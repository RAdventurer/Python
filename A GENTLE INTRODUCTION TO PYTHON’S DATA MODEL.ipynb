{
 "cells": [
  {
   "cell_type": "markdown",
   "id": "ef945d48",
   "metadata": {},
   "source": [
    "# Operations on a Python list object."
   ]
  },
  {
   "cell_type": "code",
   "execution_count": 1,
   "id": "f6c50a9b",
   "metadata": {},
   "outputs": [],
   "source": [
    "cars = list()\n",
    "cars.append('bmw')\n",
    "cars.extend(['audi', 'toyota'])\n",
    "assert cars[0] == 'bmw'\n",
    "last_car = cars.pop()\n",
    "assert last_car == 'toyota'\n",
    "assert len(cars) == 2"
   ]
  },
  {
   "cell_type": "code",
   "execution_count": 2,
   "id": "37f5a05d",
   "metadata": {},
   "outputs": [
    {
     "name": "stdout",
     "output_type": "stream",
     "text": [
      "['bmw', 'audi']\n"
     ]
    }
   ],
   "source": [
    "print (cars)"
   ]
  },
  {
   "cell_type": "markdown",
   "id": "f52113f5",
   "metadata": {},
   "source": [
    "# Operations with a Python dict object."
   ]
  },
  {
   "cell_type": "code",
   "execution_count": 3,
   "id": "4455f4d0",
   "metadata": {},
   "outputs": [],
   "source": [
    "fruit_prices = dict()\n",
    "fruit_prices['‘apple’'] = 0.5\n",
    "fruit_prices['‘orange’'] = 0.25\n",
    "assert len(fruit_prices) == 2\n",
    "assert fruit_prices.get('‘pear’') == None"
   ]
  },
  {
   "cell_type": "code",
   "execution_count": 4,
   "id": "a6170173",
   "metadata": {},
   "outputs": [
    {
     "name": "stdout",
     "output_type": "stream",
     "text": [
      "{'‘apple’': 0.5, '‘orange’': 0.25}\n"
     ]
    }
   ],
   "source": [
    "print (fruit_prices)"
   ]
  },
  {
   "cell_type": "code",
   "execution_count": 5,
   "id": "b394e77c",
   "metadata": {},
   "outputs": [
    {
     "data": {
      "text/plain": [
       "['__add__',\n",
       " '__class__',\n",
       " '__class_getitem__',\n",
       " '__contains__',\n",
       " '__delattr__',\n",
       " '__delitem__',\n",
       " '__dir__',\n",
       " '__doc__',\n",
       " '__eq__',\n",
       " '__format__',\n",
       " '__ge__',\n",
       " '__getattribute__',\n",
       " '__getitem__',\n",
       " '__getstate__',\n",
       " '__gt__',\n",
       " '__hash__',\n",
       " '__iadd__',\n",
       " '__imul__',\n",
       " '__init__',\n",
       " '__init_subclass__',\n",
       " '__iter__',\n",
       " '__le__',\n",
       " '__len__',\n",
       " '__lt__',\n",
       " '__mul__',\n",
       " '__ne__',\n",
       " '__new__',\n",
       " '__reduce__',\n",
       " '__reduce_ex__',\n",
       " '__repr__',\n",
       " '__reversed__',\n",
       " '__rmul__',\n",
       " '__setattr__',\n",
       " '__setitem__',\n",
       " '__sizeof__',\n",
       " '__str__',\n",
       " '__subclasshook__',\n",
       " 'append',\n",
       " 'clear',\n",
       " 'copy',\n",
       " 'count',\n",
       " 'extend',\n",
       " 'index',\n",
       " 'insert',\n",
       " 'pop',\n",
       " 'remove',\n",
       " 'reverse',\n",
       " 'sort']"
      ]
     },
     "execution_count": 5,
     "metadata": {},
     "output_type": "execute_result"
    }
   ],
   "source": [
    "sorted(dir(list()))"
   ]
  },
  {
   "cell_type": "markdown",
   "id": "55c9938f",
   "metadata": {},
   "source": [
    "# The Customer class"
   ]
  },
  {
   "cell_type": "code",
   "execution_count": 6,
   "id": "7a2283c2",
   "metadata": {},
   "outputs": [],
   "source": [
    "class Customer:\n",
    "    def __init__(self, first_name: str, last_name: str, credit_score: int, credit_limit: int, in_debt: bool, monthly_income: int):\n",
    "        self.first_name = first_name\n",
    "        self.last_name = last_name\n",
    "        self.credit_score = credit_score\n",
    "        self.credit_limit = credit_limit\n",
    "        self.in_debt = in_debt\n",
    "        self.monthly_income = monthly_income\n",
    "    \n",
    "    def __repr__(self):\n",
    "        debt_status = \"not in debt\" if not self.in_debt else \"in debt\"\n",
    "        return (f\"Customer {self.first_name} {self.last_name}, {debt_status}, \"\n",
    "                f\"with a credit score of {self.credit_score}, \"\n",
    "                f\"credit limit of {self.credit_limit} \"\n",
    "                f\"and a monthly income of {self.monthly_income}.\")\n",
    "            \n"
   ]
  },
  {
   "cell_type": "code",
   "execution_count": 7,
   "id": "f8e50569",
   "metadata": {},
   "outputs": [
    {
     "name": "stdout",
     "output_type": "stream",
     "text": [
      "Customer Rochedi ROUAIBIA, not in debt, with a credit score of 800, credit limit of 15000 and a monthly income of 6000.\n"
     ]
    }
   ],
   "source": [
    "customer2 = Customer(\"Rochedi\", \"ROUAIBIA\", 800, 15000, False, 6000)\n",
    "\n",
    "print(customer2)"
   ]
  },
  {
   "cell_type": "markdown",
   "id": "6b326b71",
   "metadata": {},
   "source": [
    "# Use SymPy to calculate the derivative of a function."
   ]
  },
  {
   "cell_type": "code",
   "execution_count": 8,
   "id": "af5a2f4e",
   "metadata": {},
   "outputs": [
    {
     "name": "stdout",
     "output_type": "stream",
     "text": [
      "<class 'sympy.core.symbol.Symbol'>\n",
      "2*X + cos(X) + 2\n"
     ]
    }
   ],
   "source": [
    "import sympy as sym\n",
    "x = sym.symbols(\"X\")\n",
    "print(type(x))\n",
    "print(sym.diff(x**2+sym.sin(x) + 2*x,x))"
   ]
  },
  {
   "cell_type": "code",
   "execution_count": 21,
   "id": "5bd4eb17",
   "metadata": {},
   "outputs": [],
   "source": [
    "john_smith = Customer(\"“John”\", \"“Smith”\", 800, 200000, False, 10000)\n",
    "richard_dawkins = Customer(\"“Richard”\", \"“Dawkins”\", 700, 240000, True, 8000)\n",
    "albert_jackson = Customer(\"“Albert”\", \"“Jackson”\", 700, 250000, True, 12000)\n",
    "melissa_miller = Customer(\"“Melissa”\", \"“Miller”\", 700, 250000, False, 9000)"
   ]
  },
  {
   "cell_type": "code",
   "execution_count": null,
   "id": "9d3456a2",
   "metadata": {},
   "outputs": [],
   "source": []
  }
 ],
 "metadata": {
  "kernelspec": {
   "display_name": "Python 3 (ipykernel)",
   "language": "python",
   "name": "python3"
  },
  "language_info": {
   "codemirror_mode": {
    "name": "ipython",
    "version": 3
   },
   "file_extension": ".py",
   "mimetype": "text/x-python",
   "name": "python",
   "nbconvert_exporter": "python",
   "pygments_lexer": "ipython3",
   "version": "3.11.4"
  }
 },
 "nbformat": 4,
 "nbformat_minor": 5
}
